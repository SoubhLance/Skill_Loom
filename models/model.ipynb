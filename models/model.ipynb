{
 "cells": [
  {
   "cell_type": "code",
   "execution_count": 1,
   "metadata": {},
   "outputs": [],
   "source": [
    "import pandas as pd\n",
    "import numpy as np\n",
    "import matplotlib.pyplot as plt\n",
    "import seaborn as sns"
   ]
  },
  {
   "cell_type": "code",
   "execution_count": 2,
   "metadata": {},
   "outputs": [
    {
     "data": {
      "text/html": [
       "<div>\n",
       "<style scoped>\n",
       "    .dataframe tbody tr th:only-of-type {\n",
       "        vertical-align: middle;\n",
       "    }\n",
       "\n",
       "    .dataframe tbody tr th {\n",
       "        vertical-align: top;\n",
       "    }\n",
       "\n",
       "    .dataframe thead th {\n",
       "        text-align: right;\n",
       "    }\n",
       "</style>\n",
       "<table border=\"1\" class=\"dataframe\">\n",
       "  <thead>\n",
       "    <tr style=\"text-align: right;\">\n",
       "      <th></th>\n",
       "      <th>Job Role</th>\n",
       "      <th>Skills</th>\n",
       "      <th>Experience/Eligibility</th>\n",
       "      <th>Target_Students</th>\n",
       "      <th>Domain</th>\n",
       "    </tr>\n",
       "  </thead>\n",
       "  <tbody>\n",
       "    <tr>\n",
       "      <th>0</th>\n",
       "      <td>Data Analyst</td>\n",
       "      <td>Python, SQL, Excel, Pandas, NumPy, Data Cleani...</td>\n",
       "      <td>0–2 yrs</td>\n",
       "      <td>College</td>\n",
       "      <td>Technical</td>\n",
       "    </tr>\n",
       "    <tr>\n",
       "      <th>1</th>\n",
       "      <td>AI/ML Intern</td>\n",
       "      <td>Python, TensorFlow, PyTorch, Scikit-learn, Num...</td>\n",
       "      <td>0–2 yrs</td>\n",
       "      <td>College</td>\n",
       "      <td>Technical</td>\n",
       "    </tr>\n",
       "    <tr>\n",
       "      <th>2</th>\n",
       "      <td>Software Developer</td>\n",
       "      <td>Java, C++, Python, Git, Debugging, OOP Concept...</td>\n",
       "      <td>0–2 yrs</td>\n",
       "      <td>College</td>\n",
       "      <td>Technical</td>\n",
       "    </tr>\n",
       "    <tr>\n",
       "      <th>3</th>\n",
       "      <td>Web Developer</td>\n",
       "      <td>HTML, CSS, JavaScript, React, Node.js, Bootstr...</td>\n",
       "      <td>0–2 yrs</td>\n",
       "      <td>College</td>\n",
       "      <td>Technical</td>\n",
       "    </tr>\n",
       "    <tr>\n",
       "      <th>4</th>\n",
       "      <td>Cloud Engineer</td>\n",
       "      <td>AWS Basics, Azure, GCP, Linux, Networking, Sec...</td>\n",
       "      <td>0–2 yrs</td>\n",
       "      <td>College</td>\n",
       "      <td>Technical</td>\n",
       "    </tr>\n",
       "    <tr>\n",
       "      <th>...</th>\n",
       "      <td>...</td>\n",
       "      <td>...</td>\n",
       "      <td>...</td>\n",
       "      <td>...</td>\n",
       "      <td>...</td>\n",
       "    </tr>\n",
       "    <tr>\n",
       "      <th>295</th>\n",
       "      <td>Robotics Research Intern</td>\n",
       "      <td>Arduino, Sensors, Python/C++, Data Logging, Pr...</td>\n",
       "      <td>0–2 yrs</td>\n",
       "      <td>College</td>\n",
       "      <td>Technical</td>\n",
       "    </tr>\n",
       "    <tr>\n",
       "      <th>296</th>\n",
       "      <td>AI Research Intern</td>\n",
       "      <td>Python, TensorFlow, Scikit-learn, Data Analysi...</td>\n",
       "      <td>0–2 yrs</td>\n",
       "      <td>College</td>\n",
       "      <td>Technical/Research</td>\n",
       "    </tr>\n",
       "    <tr>\n",
       "      <th>297</th>\n",
       "      <td>Machine Learning Intern</td>\n",
       "      <td>Python, Data Analysis, Regression, Classificat...</td>\n",
       "      <td>0–2 yrs</td>\n",
       "      <td>College</td>\n",
       "      <td>Technical</td>\n",
       "    </tr>\n",
       "    <tr>\n",
       "      <th>298</th>\n",
       "      <td>Environmental Data Analyst Intern</td>\n",
       "      <td>Data Analysis, GIS Basics, Excel, Reporting, R...</td>\n",
       "      <td>College</td>\n",
       "      <td>Research/Environment</td>\n",
       "      <td>NaN</td>\n",
       "    </tr>\n",
       "    <tr>\n",
       "      <th>299</th>\n",
       "      <td>School Creative Arts Intern</td>\n",
       "      <td>Drawing, Creativity, Storytelling, Presentatio...</td>\n",
       "      <td>School</td>\n",
       "      <td>Creative/Non-Technical</td>\n",
       "      <td>NaN</td>\n",
       "    </tr>\n",
       "  </tbody>\n",
       "</table>\n",
       "<p>300 rows × 5 columns</p>\n",
       "</div>"
      ],
      "text/plain": [
       "                              Job Role  \\\n",
       "0                         Data Analyst   \n",
       "1                         AI/ML Intern   \n",
       "2                   Software Developer   \n",
       "3                        Web Developer   \n",
       "4                       Cloud Engineer   \n",
       "..                                 ...   \n",
       "295           Robotics Research Intern   \n",
       "296                 AI Research Intern   \n",
       "297            Machine Learning Intern   \n",
       "298  Environmental Data Analyst Intern   \n",
       "299        School Creative Arts Intern   \n",
       "\n",
       "                                                Skills Experience/Eligibility  \\\n",
       "0    Python, SQL, Excel, Pandas, NumPy, Data Cleani...                0–2 yrs   \n",
       "1    Python, TensorFlow, PyTorch, Scikit-learn, Num...                0–2 yrs   \n",
       "2    Java, C++, Python, Git, Debugging, OOP Concept...                0–2 yrs   \n",
       "3    HTML, CSS, JavaScript, React, Node.js, Bootstr...                0–2 yrs   \n",
       "4    AWS Basics, Azure, GCP, Linux, Networking, Sec...                0–2 yrs   \n",
       "..                                                 ...                    ...   \n",
       "295  Arduino, Sensors, Python/C++, Data Logging, Pr...                0–2 yrs   \n",
       "296  Python, TensorFlow, Scikit-learn, Data Analysi...                0–2 yrs   \n",
       "297  Python, Data Analysis, Regression, Classificat...                0–2 yrs   \n",
       "298  Data Analysis, GIS Basics, Excel, Reporting, R...                College   \n",
       "299  Drawing, Creativity, Storytelling, Presentatio...                 School   \n",
       "\n",
       "            Target_Students              Domain  \n",
       "0                   College           Technical  \n",
       "1                   College           Technical  \n",
       "2                   College           Technical  \n",
       "3                   College           Technical  \n",
       "4                   College           Technical  \n",
       "..                      ...                 ...  \n",
       "295                 College           Technical  \n",
       "296                 College  Technical/Research  \n",
       "297                 College           Technical  \n",
       "298    Research/Environment                 NaN  \n",
       "299  Creative/Non-Technical                 NaN  \n",
       "\n",
       "[300 rows x 5 columns]"
      ]
     },
     "execution_count": 2,
     "metadata": {},
     "output_type": "execute_result"
    }
   ],
   "source": [
    "df = pd.read_excel('SIH Skill Loom.xlsx')\n",
    "df"
   ]
  },
  {
   "cell_type": "markdown",
   "metadata": {},
   "source": [
    "## Data Preprocessing"
   ]
  },
  {
   "cell_type": "code",
   "execution_count": 3,
   "metadata": {},
   "outputs": [
    {
     "name": "stdout",
     "output_type": "stream",
     "text": [
      "<class 'pandas.core.frame.DataFrame'>\n",
      "RangeIndex: 300 entries, 0 to 299\n",
      "Data columns (total 5 columns):\n",
      " #   Column                  Non-Null Count  Dtype \n",
      "---  ------                  --------------  ----- \n",
      " 0   Job Role                300 non-null    object\n",
      " 1   Skills                  300 non-null    object\n",
      " 2   Experience/Eligibility  300 non-null    object\n",
      " 3   Target_Students         300 non-null    object\n",
      " 4   Domain                  298 non-null    object\n",
      "dtypes: object(5)\n",
      "memory usage: 11.8+ KB\n"
     ]
    }
   ],
   "source": [
    "df.info()"
   ]
  },
  {
   "cell_type": "code",
   "execution_count": 4,
   "metadata": {},
   "outputs": [],
   "source": [
    "df.dropna(inplace=True)"
   ]
  },
  {
   "cell_type": "code",
   "execution_count": 5,
   "metadata": {},
   "outputs": [],
   "source": [
    "df.drop_duplicates(inplace=True)"
   ]
  },
  {
   "cell_type": "code",
   "execution_count": 6,
   "metadata": {},
   "outputs": [],
   "source": [
    "df[\"skills\"] = df[\"Skills\"].fillna(\"\")"
   ]
  },
  {
   "cell_type": "code",
   "execution_count": 7,
   "metadata": {},
   "outputs": [
    {
     "data": {
      "text/html": [
       "<div>\n",
       "<style scoped>\n",
       "    .dataframe tbody tr th:only-of-type {\n",
       "        vertical-align: middle;\n",
       "    }\n",
       "\n",
       "    .dataframe tbody tr th {\n",
       "        vertical-align: top;\n",
       "    }\n",
       "\n",
       "    .dataframe thead th {\n",
       "        text-align: right;\n",
       "    }\n",
       "</style>\n",
       "<table border=\"1\" class=\"dataframe\">\n",
       "  <thead>\n",
       "    <tr style=\"text-align: right;\">\n",
       "      <th></th>\n",
       "      <th>Job Role</th>\n",
       "      <th>Skills</th>\n",
       "      <th>Experience/Eligibility</th>\n",
       "      <th>Target_Students</th>\n",
       "      <th>Domain</th>\n",
       "      <th>skills</th>\n",
       "    </tr>\n",
       "  </thead>\n",
       "  <tbody>\n",
       "    <tr>\n",
       "      <th>0</th>\n",
       "      <td>Data Analyst</td>\n",
       "      <td>Python, SQL, Excel, Pandas, NumPy, Data Cleani...</td>\n",
       "      <td>0–2 yrs</td>\n",
       "      <td>College</td>\n",
       "      <td>Technical</td>\n",
       "      <td>Python, SQL, Excel, Pandas, NumPy, Data Cleani...</td>\n",
       "    </tr>\n",
       "    <tr>\n",
       "      <th>1</th>\n",
       "      <td>AI/ML Intern</td>\n",
       "      <td>Python, TensorFlow, PyTorch, Scikit-learn, Num...</td>\n",
       "      <td>0–2 yrs</td>\n",
       "      <td>College</td>\n",
       "      <td>Technical</td>\n",
       "      <td>Python, TensorFlow, PyTorch, Scikit-learn, Num...</td>\n",
       "    </tr>\n",
       "    <tr>\n",
       "      <th>2</th>\n",
       "      <td>Software Developer</td>\n",
       "      <td>Java, C++, Python, Git, Debugging, OOP Concept...</td>\n",
       "      <td>0–2 yrs</td>\n",
       "      <td>College</td>\n",
       "      <td>Technical</td>\n",
       "      <td>Java, C++, Python, Git, Debugging, OOP Concept...</td>\n",
       "    </tr>\n",
       "    <tr>\n",
       "      <th>3</th>\n",
       "      <td>Web Developer</td>\n",
       "      <td>HTML, CSS, JavaScript, React, Node.js, Bootstr...</td>\n",
       "      <td>0–2 yrs</td>\n",
       "      <td>College</td>\n",
       "      <td>Technical</td>\n",
       "      <td>HTML, CSS, JavaScript, React, Node.js, Bootstr...</td>\n",
       "    </tr>\n",
       "    <tr>\n",
       "      <th>4</th>\n",
       "      <td>Cloud Engineer</td>\n",
       "      <td>AWS Basics, Azure, GCP, Linux, Networking, Sec...</td>\n",
       "      <td>0–2 yrs</td>\n",
       "      <td>College</td>\n",
       "      <td>Technical</td>\n",
       "      <td>AWS Basics, Azure, GCP, Linux, Networking, Sec...</td>\n",
       "    </tr>\n",
       "    <tr>\n",
       "      <th>...</th>\n",
       "      <td>...</td>\n",
       "      <td>...</td>\n",
       "      <td>...</td>\n",
       "      <td>...</td>\n",
       "      <td>...</td>\n",
       "      <td>...</td>\n",
       "    </tr>\n",
       "    <tr>\n",
       "      <th>290</th>\n",
       "      <td>School Aeronautical Club</td>\n",
       "      <td>Flight Basics, Model Planes, Creativity, Obser...</td>\n",
       "      <td>0–2 yrs</td>\n",
       "      <td>School</td>\n",
       "      <td>Aeronautical</td>\n",
       "      <td>Flight Basics, Model Planes, Creativity, Obser...</td>\n",
       "    </tr>\n",
       "    <tr>\n",
       "      <th>291</th>\n",
       "      <td>School Robotics &amp; Coding</td>\n",
       "      <td>Arduino Basics, Sensors, Logical Thinking, Pro...</td>\n",
       "      <td>0–2 yrs</td>\n",
       "      <td>School</td>\n",
       "      <td>Technical</td>\n",
       "      <td>Arduino Basics, Sensors, Logical Thinking, Pro...</td>\n",
       "    </tr>\n",
       "    <tr>\n",
       "      <th>292</th>\n",
       "      <td>School AI/ML Club</td>\n",
       "      <td>Python Basics, Logical Thinking, Problem Solving</td>\n",
       "      <td>0–2 yrs</td>\n",
       "      <td>School</td>\n",
       "      <td>Technical</td>\n",
       "      <td>Python Basics, Logical Thinking, Problem Solving</td>\n",
       "    </tr>\n",
       "    <tr>\n",
       "      <th>293</th>\n",
       "      <td>Renewable Energy Intern</td>\n",
       "      <td>Solar, Wind, MATLAB, Data Analysis, Reporting</td>\n",
       "      <td>0–2 yrs</td>\n",
       "      <td>College</td>\n",
       "      <td>Electrical/Renewable</td>\n",
       "      <td>Solar, Wind, MATLAB, Data Analysis, Reporting</td>\n",
       "    </tr>\n",
       "    <tr>\n",
       "      <th>294</th>\n",
       "      <td>Renewable Energy Research</td>\n",
       "      <td>Solar, Wind, Energy Modelling, MATLAB, Reporting</td>\n",
       "      <td>0–2 yrs</td>\n",
       "      <td>College</td>\n",
       "      <td>Electrical/Renewable</td>\n",
       "      <td>Solar, Wind, Energy Modelling, MATLAB, Reporting</td>\n",
       "    </tr>\n",
       "  </tbody>\n",
       "</table>\n",
       "<p>288 rows × 6 columns</p>\n",
       "</div>"
      ],
      "text/plain": [
       "                      Job Role  \\\n",
       "0                 Data Analyst   \n",
       "1                 AI/ML Intern   \n",
       "2           Software Developer   \n",
       "3                Web Developer   \n",
       "4               Cloud Engineer   \n",
       "..                         ...   \n",
       "290   School Aeronautical Club   \n",
       "291   School Robotics & Coding   \n",
       "292          School AI/ML Club   \n",
       "293    Renewable Energy Intern   \n",
       "294  Renewable Energy Research   \n",
       "\n",
       "                                                Skills Experience/Eligibility  \\\n",
       "0    Python, SQL, Excel, Pandas, NumPy, Data Cleani...                0–2 yrs   \n",
       "1    Python, TensorFlow, PyTorch, Scikit-learn, Num...                0–2 yrs   \n",
       "2    Java, C++, Python, Git, Debugging, OOP Concept...                0–2 yrs   \n",
       "3    HTML, CSS, JavaScript, React, Node.js, Bootstr...                0–2 yrs   \n",
       "4    AWS Basics, Azure, GCP, Linux, Networking, Sec...                0–2 yrs   \n",
       "..                                                 ...                    ...   \n",
       "290  Flight Basics, Model Planes, Creativity, Obser...                0–2 yrs   \n",
       "291  Arduino Basics, Sensors, Logical Thinking, Pro...                0–2 yrs   \n",
       "292   Python Basics, Logical Thinking, Problem Solving                0–2 yrs   \n",
       "293      Solar, Wind, MATLAB, Data Analysis, Reporting                0–2 yrs   \n",
       "294   Solar, Wind, Energy Modelling, MATLAB, Reporting                0–2 yrs   \n",
       "\n",
       "    Target_Students                Domain  \\\n",
       "0           College             Technical   \n",
       "1           College             Technical   \n",
       "2           College             Technical   \n",
       "3           College             Technical   \n",
       "4           College             Technical   \n",
       "..              ...                   ...   \n",
       "290          School          Aeronautical   \n",
       "291          School             Technical   \n",
       "292          School             Technical   \n",
       "293         College  Electrical/Renewable   \n",
       "294         College  Electrical/Renewable   \n",
       "\n",
       "                                                skills  \n",
       "0    Python, SQL, Excel, Pandas, NumPy, Data Cleani...  \n",
       "1    Python, TensorFlow, PyTorch, Scikit-learn, Num...  \n",
       "2    Java, C++, Python, Git, Debugging, OOP Concept...  \n",
       "3    HTML, CSS, JavaScript, React, Node.js, Bootstr...  \n",
       "4    AWS Basics, Azure, GCP, Linux, Networking, Sec...  \n",
       "..                                                 ...  \n",
       "290  Flight Basics, Model Planes, Creativity, Obser...  \n",
       "291  Arduino Basics, Sensors, Logical Thinking, Pro...  \n",
       "292   Python Basics, Logical Thinking, Problem Solving  \n",
       "293      Solar, Wind, MATLAB, Data Analysis, Reporting  \n",
       "294   Solar, Wind, Energy Modelling, MATLAB, Reporting  \n",
       "\n",
       "[288 rows x 6 columns]"
      ]
     },
     "execution_count": 7,
     "metadata": {},
     "output_type": "execute_result"
    }
   ],
   "source": [
    "df"
   ]
  },
  {
   "cell_type": "markdown",
   "metadata": {},
   "source": [
    "## Data Cleaning"
   ]
  },
  {
   "cell_type": "code",
   "execution_count": 8,
   "metadata": {},
   "outputs": [
    {
     "name": "stdout",
     "output_type": "stream",
     "text": [
      "['job_role', 'skills', 'experience/eligibility', 'target_students', 'domain', 'skills']\n"
     ]
    }
   ],
   "source": [
    "df.columns = df.columns.str.strip().str.lower().str.replace(\" \", \"_\").str.replace(\"-\", \"_\")\n",
    "print(df.columns.tolist())"
   ]
  },
  {
   "cell_type": "code",
   "execution_count": null,
   "metadata": {},
   "outputs": [],
   "source": []
  },
  {
   "cell_type": "code",
   "execution_count": 9,
   "metadata": {},
   "outputs": [
    {
     "name": "stdout",
     "output_type": "stream",
     "text": [
      "Index(['job_role', 'skills', 'experience/eligibility', 'target_students',\n",
      "       'domain'],\n",
      "      dtype='object')\n"
     ]
    }
   ],
   "source": [
    "df = df.loc[:, ~df.columns.duplicated()]\n",
    "\n",
    "print(df.columns)"
   ]
  },
  {
   "cell_type": "code",
   "execution_count": 10,
   "metadata": {},
   "outputs": [
    {
     "data": {
      "text/html": [
       "<div>\n",
       "<style scoped>\n",
       "    .dataframe tbody tr th:only-of-type {\n",
       "        vertical-align: middle;\n",
       "    }\n",
       "\n",
       "    .dataframe tbody tr th {\n",
       "        vertical-align: top;\n",
       "    }\n",
       "\n",
       "    .dataframe thead th {\n",
       "        text-align: right;\n",
       "    }\n",
       "</style>\n",
       "<table border=\"1\" class=\"dataframe\">\n",
       "  <thead>\n",
       "    <tr style=\"text-align: right;\">\n",
       "      <th></th>\n",
       "      <th>job_role</th>\n",
       "      <th>skills</th>\n",
       "      <th>experience/eligibility</th>\n",
       "      <th>target_students</th>\n",
       "      <th>domain</th>\n",
       "    </tr>\n",
       "  </thead>\n",
       "  <tbody>\n",
       "    <tr>\n",
       "      <th>0</th>\n",
       "      <td>Data Analyst</td>\n",
       "      <td>Python, SQL, Excel, Pandas, NumPy, Data Cleani...</td>\n",
       "      <td>0–2 yrs</td>\n",
       "      <td>College</td>\n",
       "      <td>Technical</td>\n",
       "    </tr>\n",
       "    <tr>\n",
       "      <th>1</th>\n",
       "      <td>AI/ML Intern</td>\n",
       "      <td>Python, TensorFlow, PyTorch, Scikit-learn, Num...</td>\n",
       "      <td>0–2 yrs</td>\n",
       "      <td>College</td>\n",
       "      <td>Technical</td>\n",
       "    </tr>\n",
       "    <tr>\n",
       "      <th>2</th>\n",
       "      <td>Software Developer</td>\n",
       "      <td>Java, C++, Python, Git, Debugging, OOP Concept...</td>\n",
       "      <td>0–2 yrs</td>\n",
       "      <td>College</td>\n",
       "      <td>Technical</td>\n",
       "    </tr>\n",
       "    <tr>\n",
       "      <th>3</th>\n",
       "      <td>Web Developer</td>\n",
       "      <td>HTML, CSS, JavaScript, React, Node.js, Bootstr...</td>\n",
       "      <td>0–2 yrs</td>\n",
       "      <td>College</td>\n",
       "      <td>Technical</td>\n",
       "    </tr>\n",
       "    <tr>\n",
       "      <th>4</th>\n",
       "      <td>Cloud Engineer</td>\n",
       "      <td>AWS Basics, Azure, GCP, Linux, Networking, Sec...</td>\n",
       "      <td>0–2 yrs</td>\n",
       "      <td>College</td>\n",
       "      <td>Technical</td>\n",
       "    </tr>\n",
       "  </tbody>\n",
       "</table>\n",
       "</div>"
      ],
      "text/plain": [
       "             job_role                                             skills  \\\n",
       "0        Data Analyst  Python, SQL, Excel, Pandas, NumPy, Data Cleani...   \n",
       "1        AI/ML Intern  Python, TensorFlow, PyTorch, Scikit-learn, Num...   \n",
       "2  Software Developer  Java, C++, Python, Git, Debugging, OOP Concept...   \n",
       "3       Web Developer  HTML, CSS, JavaScript, React, Node.js, Bootstr...   \n",
       "4      Cloud Engineer  AWS Basics, Azure, GCP, Linux, Networking, Sec...   \n",
       "\n",
       "  experience/eligibility target_students     domain  \n",
       "0                0–2 yrs         College  Technical  \n",
       "1                0–2 yrs         College  Technical  \n",
       "2                0–2 yrs         College  Technical  \n",
       "3                0–2 yrs         College  Technical  \n",
       "4                0–2 yrs         College  Technical  "
      ]
     },
     "execution_count": 10,
     "metadata": {},
     "output_type": "execute_result"
    }
   ],
   "source": [
    "df.head()"
   ]
  },
  {
   "cell_type": "markdown",
   "metadata": {},
   "source": [
    "## Graph For missing values"
   ]
  },
  {
   "cell_type": "code",
   "execution_count": 11,
   "metadata": {},
   "outputs": [
    {
     "data": {
      "image/png": "[encoded data removed]",
      "text/plain": [
       "<Figure size 1000x500 with 1 Axes>"
      ]
     },
     "metadata": {},
     "output_type": "display_data"
    }
   ],
   "source": [
    "plt.figure(figsize=(10,5))\n",
    "df.isnull().sum().plot(kind='bar', color='red', edgecolor='black')\n",
    "plt.title(\"Missing Values per Column\")\n",
    "plt.ylabel(\"Count\")\n",
    "plt.xlabel(\"Columns\")\n",
    "plt.xticks(rotation=45)\n",
    "plt.show()"
   ]
  },
  {
   "cell_type": "code",
   "execution_count": 12,
   "metadata": {},
   "outputs": [
    {
     "name": "stderr",
     "output_type": "stream",
     "text": [
      "/var/folders/sx/lzmwqx7x329_brmz56xy28880000gn/T/ipykernel_2322/1027543730.py:6: FutureWarning: \n",
      "\n",
      "Passing `palette` without assigning `hue` is deprecated and will be removed in v0.14.0. Assign the `x` variable to `hue` and set `legend=False` for the same effect.\n",
      "\n",
      "  sns.barplot(x=job_role_counts.index, y=job_role_counts.values, palette=\"viridis\")\n"
     ]
    },
    {
     "data": {
      "image/png": "[encoded data removed]",
      "text/plain": [
       "<Figure size 1200x600 with 1 Axes>"
      ]
     },
     "metadata": {},
     "output_type": "display_data"
    }
   ],
   "source": [
    "if \"job_role\" in df.columns and \"skills\" in df.columns:\n",
    "    plt.figure(figsize=(12,6))\n",
    "    job_role_counts = df.groupby(\"job_role\")[\"skills\"].count().sort_values(ascending=False)\n",
    "    top_n = 15\n",
    "    job_role_counts = job_role_counts[:top_n]\n",
    "    sns.barplot(x=job_role_counts.index, y=job_role_counts.values, palette=\"viridis\")\n",
    "    plt.xticks(rotation=45, ha=\"right\")\n",
    "    plt.xlabel(\"Job Roles\")\n",
    "    plt.ylabel(\"Number of Skills Listed\")\n",
    "    plt.title(f\"Top {top_n} Job Roles vs Required Skills\")\n",
    "    plt.show()\n",
    "else:\n",
    "    print(\"Columns 'job_role' or 'skills' not found in dataset. Available columns:\", df.columns)\n"
   ]
  },
  {
   "cell_type": "markdown",
   "metadata": {},
   "source": [
    "## Tokenization"
   ]
  },
  {
   "cell_type": "code",
   "execution_count": 13,
   "metadata": {},
   "outputs": [
    {
     "name": "stderr",
     "output_type": "stream",
     "text": [
      "\n",
      "A module that was compiled using NumPy 1.x cannot be run in\n",
      "NumPy 2.1.3 as it may crash. To support both 1.x and 2.x\n",
      "versions of NumPy, modules must be compiled with NumPy 2.0.\n",
      "Some module may need to rebuild instead e.g. with 'pybind11>=2.12'.\n",
      "\n",
      "If you are a user of the module, the easiest solution will be to\n",
      "downgrade to 'numpy<2' or try to upgrade the affected module.\n",
      "We expect that some modules will need time to support NumPy 2.\n",
      "\n",
      "Traceback (most recent call last):  File \"<frozen runpy>\", line 198, in _run_module_as_main\n",
      "  File \"<frozen runpy>\", line 88, in _run_code\n",
      "  File \"/opt/homebrew/lib/python3.11/site-packages/ipykernel_launcher.py\", line 18, in <module>\n",
      "    app.launch_new_instance()\n",
      "  File \"/opt/homebrew/lib/python3.11/site-packages/traitlets/config/application.py\", line 1075, in launch_instance\n",
      "    app.start()\n",
      "  File \"/opt/homebrew/lib/python3.11/site-packages/ipykernel/kernelapp.py\", line 739, in start\n",
      "    self.io_loop.start()\n",
      "  File \"/opt/homebrew/lib/python3.11/site-packages/tornado/platform/asyncio.py\", line 205, in start\n",
      "    self.asyncio_loop.run_forever()\n",
      "  File \"/opt/homebrew/Cellar/python@3.11/3.11.13/Frameworks/Python.framework/Versions/3.11/lib/python3.11/asyncio/base_events.py\", line 608, in run_forever\n",
      "    self._run_once()\n",
      "  File \"/opt/homebrew/Cellar/python@3.11/3.11.13/Frameworks/Python.framework/Versions/3.11/lib/python3.11/asyncio/base_events.py\", line 1936, in _run_once\n",
      "    handle._run()\n",
      "  File \"/opt/homebrew/Cellar/python@3.11/3.11.13/Frameworks/Python.framework/Versions/3.11/lib/python3.11/asyncio/events.py\", line 84, in _run\n",
      "    self._context.run(self._callback, *self._args)\n",
      "  File \"/opt/homebrew/lib/python3.11/site-packages/ipykernel/kernelbase.py\", line 545, in dispatch_queue\n",
      "    await self.process_one()\n",
      "  File \"/opt/homebrew/lib/python3.11/site-packages/ipykernel/kernelbase.py\", line 534, in process_one\n",
      "    await dispatch(*args)\n",
      "  File \"/opt/homebrew/lib/python3.11/site-packages/ipykernel/kernelbase.py\", line 437, in dispatch_shell\n",
      "    await result\n",
      "  File \"/opt/homebrew/lib/python3.11/site-packages/ipykernel/ipkernel.py\", line 362, in execute_request\n",
      "    await super().execute_request(stream, ident, parent)\n",
      "  File \"/opt/homebrew/lib/python3.11/site-packages/ipykernel/kernelbase.py\", line 778, in execute_request\n",
      "    reply_content = await reply_content\n",
      "  File \"/opt/homebrew/lib/python3.11/site-packages/ipykernel/ipkernel.py\", line 449, in do_execute\n",
      "    res = shell.run_cell(\n",
      "  File \"/opt/homebrew/lib/python3.11/site-packages/ipykernel/zmqshell.py\", line 549, in run_cell\n",
      "    return super().run_cell(*args, **kwargs)\n",
      "  File \"/opt/homebrew/lib/python3.11/site-packages/IPython/core/interactiveshell.py\", line 3009, in run_cell\n",
      "    result = self._run_cell(\n",
      "  File \"/opt/homebrew/lib/python3.11/site-packages/IPython/core/interactiveshell.py\", line 3064, in _run_cell\n",
      "    result = runner(coro)\n",
      "  File \"/opt/homebrew/lib/python3.11/site-packages/IPython/core/async_helpers.py\", line 129, in _pseudo_sync_runner\n",
      "    coro.send(None)\n",
      "  File \"/opt/homebrew/lib/python3.11/site-packages/IPython/core/interactiveshell.py\", line 3269, in run_cell_async\n",
      "    has_raised = await self.run_ast_nodes(code_ast.body, cell_name,\n",
      "  File \"/opt/homebrew/lib/python3.11/site-packages/IPython/core/interactiveshell.py\", line 3448, in run_ast_nodes\n",
      "    if await self.run_code(code, result, async_=asy):\n",
      "  File \"/opt/homebrew/lib/python3.11/site-packages/IPython/core/interactiveshell.py\", line 3508, in run_code\n",
      "    exec(code_obj, self.user_global_ns, self.user_ns)\n",
      "  File \"/var/folders/sx/lzmwqx7x329_brmz56xy28880000gn/T/ipykernel_2322/3121127374.py\", line 1, in <module>\n",
      "    from sentence_transformers import SentenceTransformer\n",
      "  File \"/opt/homebrew/lib/python3.11/site-packages/sentence_transformers/__init__.py\", line 14, in <module>\n",
      "    from sentence_transformers.cross_encoder.CrossEncoder import CrossEncoder\n",
      "  File \"/opt/homebrew/lib/python3.11/site-packages/sentence_transformers/cross_encoder/__init__.py\", line 3, in <module>\n",
      "    from .CrossEncoder import CrossEncoder\n",
      "  File \"/opt/homebrew/lib/python3.11/site-packages/sentence_transformers/cross_encoder/CrossEncoder.py\", line 18, in <module>\n",
      "    from sentence_transformers.evaluation.SentenceEvaluator import SentenceEvaluator\n",
      "  File \"/opt/homebrew/lib/python3.11/site-packages/sentence_transformers/evaluation/__init__.py\", line 9, in <module>\n",
      "    from .NanoBEIREvaluator import NanoBEIREvaluator\n",
      "  File \"/opt/homebrew/lib/python3.11/site-packages/sentence_transformers/evaluation/NanoBEIREvaluator.py\", line 11, in <module>\n",
      "    from sentence_transformers import SentenceTransformer\n",
      "  File \"/opt/homebrew/lib/python3.11/site-packages/sentence_transformers/SentenceTransformer.py\", line 33, in <module>\n",
      "    from sentence_transformers.model_card import SentenceTransformerModelCardData, generate_model_card\n",
      "  File \"/opt/homebrew/lib/python3.11/site-packages/sentence_transformers/model_card.py\", line 25, in <module>\n",
      "    from transformers.integrations import CodeCarbonCallback\n",
      "  File \"/opt/homebrew/lib/python3.11/site-packages/transformers/utils/import_utils.py\", line 1851, in __getattr__\n",
      "    module = self._get_module(self._class_to_module[name])\n",
      "  File \"/opt/homebrew/lib/python3.11/site-packages/transformers/utils/import_utils.py\", line 1863, in _get_module\n",
      "    return importlib.import_module(\".\" + module_name, self.__name__)\n",
      "  File \"/opt/homebrew/Cellar/python@3.11/3.11.13/Frameworks/Python.framework/Versions/3.11/lib/python3.11/importlib/__init__.py\", line 126, in import_module\n",
      "    return _bootstrap._gcd_import(name[level:], package, level)\n",
      "  File \"/opt/homebrew/lib/python3.11/site-packages/transformers/integrations/integration_utils.py\", line 36, in <module>\n",
      "    from .. import PreTrainedModel, TFPreTrainedModel\n",
      "  File \"/opt/homebrew/lib/python3.11/site-packages/transformers/utils/import_utils.py\", line 1851, in __getattr__\n",
      "    module = self._get_module(self._class_to_module[name])\n",
      "  File \"/opt/homebrew/lib/python3.11/site-packages/transformers/utils/import_utils.py\", line 1863, in _get_module\n",
      "    return importlib.import_module(\".\" + module_name, self.__name__)\n",
      "  File \"/opt/homebrew/Cellar/python@3.11/3.11.13/Frameworks/Python.framework/Versions/3.11/lib/python3.11/importlib/__init__.py\", line 126, in import_module\n",
      "    return _bootstrap._gcd_import(name[level:], package, level)\n",
      "  File \"/opt/homebrew/lib/python3.11/site-packages/transformers/modeling_utils.py\", line 53, in <module>\n",
      "    from .loss.loss_utils import LOSS_MAPPING\n",
      "  File \"/opt/homebrew/lib/python3.11/site-packages/transformers/loss/loss_utils.py\", line 19, in <module>\n",
      "    from .loss_deformable_detr import DeformableDetrForObjectDetectionLoss, DeformableDetrForSegmentationLoss\n",
      "  File \"/opt/homebrew/lib/python3.11/site-packages/transformers/loss/loss_deformable_detr.py\", line 4, in <module>\n",
      "    from ..image_transforms import center_to_corners_format\n",
      "  File \"/opt/homebrew/lib/python3.11/site-packages/transformers/image_transforms.py\", line 48, in <module>\n",
      "    import tensorflow as tf\n",
      "  File \"/opt/homebrew/lib/python3.11/site-packages/tensorflow/__init__.py\", line 49, in <module>\n",
      "    from tensorflow._api.v2 import __internal__\n",
      "  File \"/opt/homebrew/lib/python3.11/site-packages/tensorflow/_api/v2/__internal__/__init__.py\", line 8, in <module>\n",
      "    from tensorflow._api.v2.__internal__ import autograph\n",
      "  File \"/opt/homebrew/lib/python3.11/site-packages/tensorflow/_api/v2/__internal__/autograph/__init__.py\", line 8, in <module>\n",
      "    from tensorflow.python.autograph.core.ag_ctx import control_status_ctx # line: 34\n",
      "  File \"/opt/homebrew/lib/python3.11/site-packages/tensorflow/python/autograph/core/ag_ctx.py\", line 21, in <module>\n",
      "    from tensorflow.python.autograph.utils import ag_logging\n",
      "  File \"/opt/homebrew/lib/python3.11/site-packages/tensorflow/python/autograph/utils/__init__.py\", line 17, in <module>\n",
      "    from tensorflow.python.autograph.utils.context_managers import control_dependency_on_returns\n",
      "  File \"/opt/homebrew/lib/python3.11/site-packages/tensorflow/python/autograph/utils/context_managers.py\", line 19, in <module>\n",
      "    from tensorflow.python.framework import ops\n",
      "  File \"/opt/homebrew/lib/python3.11/site-packages/tensorflow/python/framework/ops.py\", line 62, in <module>\n",
      "    from tensorflow.python.framework import tensor as tensor_lib\n",
      "  File \"/opt/homebrew/lib/python3.11/site-packages/tensorflow/python/framework/tensor.py\", line 35, in <module>\n",
      "    from tensorflow.python.framework import tensor_util\n",
      "  File \"/opt/homebrew/lib/python3.11/site-packages/tensorflow/python/framework/tensor_util.py\", line 39, in <module>\n",
      "    from tensorflow.python.framework import fast_tensor_util\n"
     ]
    }
   ],
   "source": [
    "from sentence_transformers import SentenceTransformer"
   ]
  },
  {
   "cell_type": "code",
   "execution_count": 14,
   "metadata": {},
   "outputs": [
    {
     "name": "stderr",
     "output_type": "stream",
     "text": [
      "/var/folders/sx/lzmwqx7x329_brmz56xy28880000gn/T/ipykernel_2322/3816043357.py:3: SettingWithCopyWarning: \n",
      "A value is trying to be set on a copy of a slice from a DataFrame.\n",
      "Try using .loc[row_indexer,col_indexer] = value instead\n",
      "\n",
      "See the caveats in the documentation: https://pandas.pydata.org/pandas-docs/stable/user_guide/indexing.html#returning-a-view-versus-a-copy\n",
      "  df[col] = df[col].astype(str).fillna(\"\")\n",
      "/var/folders/sx/lzmwqx7x329_brmz56xy28880000gn/T/ipykernel_2322/3816043357.py:3: SettingWithCopyWarning: \n",
      "A value is trying to be set on a copy of a slice from a DataFrame.\n",
      "Try using .loc[row_indexer,col_indexer] = value instead\n",
      "\n",
      "See the caveats in the documentation: https://pandas.pydata.org/pandas-docs/stable/user_guide/indexing.html#returning-a-view-versus-a-copy\n",
      "  df[col] = df[col].astype(str).fillna(\"\")\n",
      "/var/folders/sx/lzmwqx7x329_brmz56xy28880000gn/T/ipykernel_2322/3816043357.py:3: SettingWithCopyWarning: \n",
      "A value is trying to be set on a copy of a slice from a DataFrame.\n",
      "Try using .loc[row_indexer,col_indexer] = value instead\n",
      "\n",
      "See the caveats in the documentation: https://pandas.pydata.org/pandas-docs/stable/user_guide/indexing.html#returning-a-view-versus-a-copy\n",
      "  df[col] = df[col].astype(str).fillna(\"\")\n"
     ]
    },
    {
     "name": "stdout",
     "output_type": "stream",
     "text": [
      "Tokenizing skills....\n"
     ]
    },
    {
     "data": {
      "application/vnd.jupyter.widget-view+json": {
       "model_id": "307e1c24aad64ea88da4e482847c527d",
       "version_major": 2,
       "version_minor": 0
      },
      "text/plain": [
       "Batches:   0%|          | 0/9 [00:00<?, ?it/s]"
      ]
     },
     "metadata": {},
     "output_type": "display_data"
    },
    {
     "name": "stdout",
     "output_type": "stream",
     "text": [
      "Tokenizing job_role....\n"
     ]
    },
    {
     "data": {
      "application/vnd.jupyter.widget-view+json": {
       "model_id": "1871c59993524a2a89f9deccf1b987d1",
       "version_major": 2,
       "version_minor": 0
      },
      "text/plain": [
       "Batches:   0%|          | 0/9 [00:00<?, ?it/s]"
      ]
     },
     "metadata": {},
     "output_type": "display_data"
    },
    {
     "name": "stdout",
     "output_type": "stream",
     "text": [
      "Tokenizing target_students....\n"
     ]
    },
    {
     "data": {
      "application/vnd.jupyter.widget-view+json": {
       "model_id": "79b59f5cf3b545bc9291083ec6afa6d1",
       "version_major": 2,
       "version_minor": 0
      },
      "text/plain": [
       "Batches:   0%|          | 0/9 [00:00<?, ?it/s]"
      ]
     },
     "metadata": {},
     "output_type": "display_data"
    }
   ],
   "source": [
    "text_columns = [\"skills\", \"job_role\", \"target_students\"]\n",
    "for col in text_columns:\n",
    "    df[col] = df[col].astype(str).fillna(\"\")\n",
    "model = SentenceTransformer('all-MiniLM-L6-v2')\n",
    "for col in text_columns:\n",
    "    print(f\"Tokenizing {col}....\")\n",
    "    df[f\"{col}_embedding\"] = model.encode(df[col]. tolist(), batch_size=32, show_progress_bar = True).tolist()\n",
    "df.to_csv(\"final_skill_loom.csv\", index=False)"
   ]
  },
  {
   "cell_type": "markdown",
   "metadata": {},
   "source": [
    "## User input and Prediction"
   ]
  },
  {
   "cell_type": "code",
   "execution_count": 15,
   "metadata": {},
   "outputs": [],
   "source": [
    "#1. TF-IDF vectorizer on skills column\n",
    "from sklearn.feature_extraction.text import TfidfVectorizer"
   ]
  },
  {
   "cell_type": "code",
   "execution_count": 16,
   "metadata": {},
   "outputs": [
    {
     "data": {
      "text/plain": [
       "\"tfidf_vectorizer = TfidfVectorizer(stop_words='english', max_features=5000)\\ntfidf_matrix = tfidf_vectorizer.fit_transform(df['skills'])\""
      ]
     },
     "execution_count": 16,
     "metadata": {},
     "output_type": "execute_result"
    }
   ],
   "source": [
    "'''tfidf_vectorizer = TfidfVectorizer(stop_words='english', max_features=5000)\n",
    "tfidf_matrix = tfidf_vectorizer.fit_transform(df['skills'])'''"
   ]
  },
  {
   "cell_type": "code",
   "execution_count": 17,
   "metadata": {},
   "outputs": [
    {
     "data": {
      "text/plain": [
       "'# 2. Encode user input skills\\nuser_skills = \"javascript, python\"\\nuser_tfidf = tfidf_vectorizer.transform([user_skills])\\n'"
      ]
     },
     "execution_count": 17,
     "metadata": {},
     "output_type": "execute_result"
    }
   ],
   "source": [
    "'''# 2. Encode user input skills\n",
    "user_skills = \"javascript, python\"\n",
    "user_tfidf = tfidf_vectorizer.transform([user_skills])\n",
    "'''"
   ]
  },
  {
   "cell_type": "code",
   "execution_count": 19,
   "metadata": {},
   "outputs": [
    {
     "ename": "NameError",
     "evalue": "name 'user_tfidf' is not defined",
     "output_type": "error",
     "traceback": [
      "\u001b[0;31m---------------------------------------------------------------------------\u001b[0m",
      "\u001b[0;31mNameError\u001b[0m                                 Traceback (most recent call last)",
      "Cell \u001b[0;32mIn[19], line 3\u001b[0m\n\u001b[1;32m      1\u001b[0m \u001b[38;5;66;03m#3. Compute cosine similarity\u001b[39;00m\n\u001b[1;32m      2\u001b[0m \u001b[38;5;28;01mfrom\u001b[39;00m\u001b[38;5;250m \u001b[39m\u001b[38;5;21;01msklearn\u001b[39;00m\u001b[38;5;21;01m.\u001b[39;00m\u001b[38;5;21;01mmetrics\u001b[39;00m\u001b[38;5;21;01m.\u001b[39;00m\u001b[38;5;21;01mpairwise\u001b[39;00m\u001b[38;5;250m \u001b[39m\u001b[38;5;28;01mimport\u001b[39;00m cosine_similarity\n\u001b[0;32m----> 3\u001b[0m similarity_scores_tfidf \u001b[38;5;241m=\u001b[39m cosine_similarity(\u001b[43muser_tfidf\u001b[49m, tfidf_matrix)[\u001b[38;5;241m0\u001b[39m]\n",
      "\u001b[0;31mNameError\u001b[0m: name 'user_tfidf' is not defined"
     ]
    }
   ],
   "source": [
    "#3. Compute cosine similarity\n",
    "from sklearn.metrics.pairwise import cosine_similarity\n",
    "similarity_scores_tfidf = cosine_similarity(user_tfidf, tfidf_matrix)[0]"
   ]
  },
  {
   "cell_type": "code",
   "execution_count": null,
   "metadata": {},
   "outputs": [
    {
     "data": {
      "text/plain": [
       "'\\nfrom sentence_transformers import SentenceTransformer\\nfrom sklearn.feature_extraction.text import TfidfVectorizer\\nfrom sklearn.metrics.pairwise import cosine_similarity\\nimport pandas as pd\\n\\n# Ensure skills column is string\\ndf[\\'skills\\'] = df[\\'skills\\'].astype(str)\\n\\n# -----------------------------\\n# 1. SBERT Embeddings Similarity\\n# -----------------------------\\nsbert_model = SentenceTransformer(\\'all-MiniLM-L6-v2\\')\\njob_embeddings = sbert_model.encode(df[\"skills\"].tolist(), convert_to_tensor=True)\\n\\nuser_skills = \"Python, TensorFlow, PyTorch, Scikit-learn, NumPy, Pandas, Data Preprocessing, Feature Engineering, Model Evaluation, Machine Learning Algorithms, Deep Learning, Neural Networks, Data Visualization, Problem Solving\"\\nuser_embedding = sbert_model.encode([user_skills], convert_to_tensor=True)\\n\\nsimilarity_scores = cosine_similarity(user_embedding.cpu().numpy(), job_embeddings.cpu().numpy())[0]\\ndf[\"similarity_score\"] = similarity_scores * 100\\n\\n# -----------------------------\\n# 2. TF-IDF Similarity\\n# -----------------------------\\ntfidf_vectorizer = TfidfVectorizer(stop_words=\\'english\\', max_features=5000)\\ntfidf_matrix = tfidf_vectorizer.fit_transform(df[\\'skills\\'])\\n\\nuser_tfidf = tfidf_vectorizer.transform([user_skills])\\nsimilarity_scores_tfidf = cosine_similarity(user_tfidf, tfidf_matrix)[0]\\ndf[\"similarity_score_tfidf\"] = similarity_scores_tfidf * 100\\n\\n# -----------------------------\\n# 3. Combine Similarities\\n# -----------------------------\\ndf[\\'final_similarity\\'] = 0.6 * df[\\'similarity_score\\'] + 0.4 * df[\\'similarity_score_tfidf\\']\\n\\n# -----------------------------\\n# 4. Multi-word skills & missing skills\\n# -----------------------------\\nmulti_word_skills = [\\n    \\'Machine Learning\\', \\'Deep Learning\\', \\'Data Preprocessing\\', \\'Feature Engineering\\',\\n    \\'Model Evaluation\\', \\'Neural Networks\\', \\'Data Visualization\\', \\'Problem Solving\\',\\n    \\'TensorFlow\\', \\'PyTorch\\', \\'Scikit-learn\\', \\'NumPy\\', \\'Pandas\\'\\n]\\n\\n\\n\\ndef normalize_skills(skill_string):\\n    skill_string = skill_string.lower().strip()\\n    for skill in multi_word_skills:\\n        skill_string = skill_string.replace(skill.lower(), skill.lower().replace(\" \", \"_\"))\\n    skill_list = [skill.strip() for skill in skill_string.replace(\",\", \" \").split()]\\n    skill_list = [skill.replace(\"_\", \" \") for skill in skill_list]\\n    return set(skill_list)\\n\\ndef get_missing_skills(user_skills, job_skills):\\n    user_skill_set = normalize_skills(user_skills)\\n    job_skill_set = normalize_skills(job_skills)\\n    missing_skills = job_skill_set - user_skill_set\\n    return \", \".join(missing_skills)\\n\\n# -----------------------------\\n# 5. Top Job Recommendations\\n# -----------------------------\\ntop_jobs = df.sort_values(by=\\'final_similarity\\', ascending=False).head(10)\\ntop_jobs[\"missing_skills\"] = top_jobs[\"skills\"].apply(lambda x: get_missing_skills(user_skills, x))\\n\\nprint(top_jobs[[\"job_role\", \"final_similarity\", \"missing_skills\"]])\\n'"
      ]
     },
     "execution_count": 20,
     "metadata": {},
     "output_type": "execute_result"
    }
   ],
   "source": [
    "'''\n",
    "from sentence_transformers import SentenceTransformer\n",
    "from sklearn.feature_extraction.text import TfidfVectorizer\n",
    "from sklearn.metrics.pairwise import cosine_similarity\n",
    "import pandas as pd\n",
    "\n",
    "# Ensure skills column is string\n",
    "df['skills'] = df['skills'].astype(str)\n",
    "\n",
    "# -----------------------------\n",
    "# 1. SBERT Embeddings Similarity\n",
    "# -----------------------------\n",
    "sbert_model = SentenceTransformer('all-MiniLM-L6-v2')\n",
    "job_embeddings = sbert_model.encode(df[\"skills\"].tolist(), convert_to_tensor=True)\n",
    "\n",
    "user_skills = \"Python, TensorFlow, PyTorch, Scikit-learn, NumPy, Pandas, Data Preprocessing, Feature Engineering, Model Evaluation, Machine Learning Algorithms, Deep Learning, Neural Networks, Data Visualization, Problem Solving\"\n",
    "user_embedding = sbert_model.encode([user_skills], convert_to_tensor=True)\n",
    "\n",
    "similarity_scores = cosine_similarity(user_embedding.cpu().numpy(), job_embeddings.cpu().numpy())[0]\n",
    "df[\"similarity_score\"] = similarity_scores * 100\n",
    "\n",
    "# -----------------------------\n",
    "# 2. TF-IDF Similarity\n",
    "# -----------------------------\n",
    "tfidf_vectorizer = TfidfVectorizer(stop_words='english', max_features=5000)\n",
    "tfidf_matrix = tfidf_vectorizer.fit_transform(df['skills'])\n",
    "\n",
    "user_tfidf = tfidf_vectorizer.transform([user_skills])\n",
    "similarity_scores_tfidf = cosine_similarity(user_tfidf, tfidf_matrix)[0]\n",
    "df[\"similarity_score_tfidf\"] = similarity_scores_tfidf * 100\n",
    "\n",
    "# -----------------------------\n",
    "# 3. Combine Similarities\n",
    "# -----------------------------\n",
    "df['final_similarity'] = 0.6 * df['similarity_score'] + 0.4 * df['similarity_score_tfidf']\n",
    "\n",
    "# -----------------------------\n",
    "# 4. Multi-word skills & missing skills\n",
    "# -----------------------------\n",
    "multi_word_skills = [\n",
    "    'Machine Learning', 'Deep Learning', 'Data Preprocessing', 'Feature Engineering',\n",
    "    'Model Evaluation', 'Neural Networks', 'Data Visualization', 'Problem Solving',\n",
    "    'TensorFlow', 'PyTorch', 'Scikit-learn', 'NumPy', 'Pandas'\n",
    "]\n",
    "\n",
    "\n",
    "\n",
    "def normalize_skills(skill_string):\n",
    "    skill_string = skill_string.lower().strip()\n",
    "    for skill in multi_word_skills:\n",
    "        skill_string = skill_string.replace(skill.lower(), skill.lower().replace(\" \", \"_\"))\n",
    "    skill_list = [skill.strip() for skill in skill_string.replace(\",\", \" \").split()]\n",
    "    skill_list = [skill.replace(\"_\", \" \") for skill in skill_list]\n",
    "    return set(skill_list)\n",
    "\n",
    "def get_missing_skills(user_skills, job_skills):\n",
    "    user_skill_set = normalize_skills(user_skills)\n",
    "    job_skill_set = normalize_skills(job_skills)\n",
    "    missing_skills = job_skill_set - user_skill_set\n",
    "    return \", \".join(missing_skills)\n",
    "\n",
    "# -----------------------------\n",
    "# 5. Top Job Recommendations\n",
    "# -----------------------------\n",
    "top_jobs = df.sort_values(by='final_similarity', ascending=False).head(10)\n",
    "top_jobs[\"missing_skills\"] = top_jobs[\"skills\"].apply(lambda x: get_missing_skills(user_skills, x))\n",
    "\n",
    "print(top_jobs[[\"job_role\", \"final_similarity\", \"missing_skills\"]])\n",
    "'''\n"
   ]
  },
  {
   "cell_type": "code",
   "execution_count": 20,
   "metadata": {},
   "outputs": [
    {
     "name": "stdout",
     "output_type": "stream",
     "text": [
      "                      job_role  final_similarity  \\\n",
      "1                 AI/ML Intern         93.621489   \n",
      "50   Machine Learning Engineer         62.877493   \n",
      "44       AI/ML Research Intern         61.361518   \n",
      "52              Data Scientist         53.449269   \n",
      "215         AI Research Intern         49.942769   \n",
      "166               AI/ML Intern         48.026292   \n",
      "0                 Data Analyst         42.125151   \n",
      "51                NLP Engineer         35.837378   \n",
      "106         AI Research Intern         32.508101   \n",
      "216    Machine Learning Intern         30.354652   \n",
      "\n",
      "                                        matched_skills  \\\n",
      "1    evaluation, numpy, networks, solving, deep, da...   \n",
      "50   evaluation, numpy, solving, data, feature, mod...   \n",
      "44   evaluation, solving, deep, data, model, machin...   \n",
      "52   solving, numpy, data, pandas, visualization, m...   \n",
      "215                                 data, scikit-learn   \n",
      "166                                 data, scikit-learn   \n",
      "0    solving, numpy, data, pandas, visualization, p...   \n",
      "51   evaluation, solving, data, model, preprocessin...   \n",
      "106                             solving, problem, data   \n",
      "216                                               data   \n",
      "\n",
      "                                        missing_skills  \n",
      "1              pytorch, algorithms, tensorflow, python  \n",
      "50   cleaning, tensorflow, deployment, pytorch, python  \n",
      "44              research, analysis, tensorflow, python  \n",
      "52   communication, sql, r, python, tableau, statis...  \n",
      "215             research, analysis, tensorflow, python  \n",
      "166           algorithms, analysis, tensorflow, python  \n",
      "0    cleaning, powerbi, writing, communication, sql...  \n",
      "51   analysis, spacy, nltk, training, transformers,...  \n",
      "106  methodology, analysis, reading, tensorflow, re...  \n",
      "216  algorithms, analysis, regression, classificati...  \n"
     ]
    }
   ],
   "source": [
    "\n",
    "# -----------------------------\n",
    "# 1. Multi-word skills for normalization\n",
    "# -----------------------------\n",
    "multi_word_skills = [\n",
    "    'Machine Learning', 'Deep Learning', 'Data Preprocessing', 'Feature Engineering',\n",
    "    'Model Evaluation', 'Neural Networks', 'Data Visualization', 'Problem Solving',\n",
    "    'TensorFlow', 'PyTorch', 'Scikit-learn', 'NumPy', 'Pandas'\n",
    "]\n",
    "\n",
    "def normalize_skills(skill_string):\n",
    "    skill_string = skill_string.lower().strip()\n",
    "    for skill in multi_word_skills:\n",
    "        skill_string = skill_string.replace(skill.lower(), skill.lower().replace(\" \", \"_\"))\n",
    "    skill_list = [s.strip() for s in skill_string.replace(\",\", \" \").split()]\n",
    "    skill_list = [s.replace(\"_\", \" \") for s in skill_list]\n",
    "    return \" \".join(skill_list)  # Return as string for TF-IDF and embedding\n",
    "\n",
    "# Apply normalization\n",
    "df['skills_normalized'] = df['skills'].apply(normalize_skills)\n",
    "\n",
    "# -----------------------------\n",
    "# 2. SBERT Embeddings\n",
    "# -----------------------------\n",
    "sbert_model = SentenceTransformer('all-MiniLM-L6-v2')\n",
    "job_embeddings = sbert_model.encode(df[\"skills_normalized\"].tolist(), convert_to_tensor=True)\n",
    "\n",
    "# -----------------------------\n",
    "# 3. TF-IDF Similarity\n",
    "# -----------------------------\n",
    "tfidf_vectorizer = TfidfVectorizer(stop_words='english', max_features=5000)\n",
    "tfidf_matrix = tfidf_vectorizer.fit_transform(df['skills_normalized'])\n",
    "\n",
    "# -----------------------------\n",
    "# 4. User Input\n",
    "# -----------------------------\n",
    "user_skills = \" Scikit-learn, NumPy, Pandas, Data Preprocessing, Feature Engineering, Model Evaluation, Machine Learning, Deep Learning, Neural Networks, Data Visualization, Problem Solving\"\n",
    "user_normalized = normalize_skills(user_skills)\n",
    "\n",
    "# SBERT embedding\n",
    "user_embedding = sbert_model.encode([user_normalized], convert_to_tensor=True)\n",
    "similarity_scores_sbert = cosine_similarity(user_embedding.cpu().numpy(), job_embeddings.cpu().numpy())[0]\n",
    "\n",
    "# TF-IDF similarity\n",
    "user_tfidf = tfidf_vectorizer.transform([user_normalized])\n",
    "similarity_scores_tfidf = cosine_similarity(user_tfidf, tfidf_matrix)[0]\n",
    "\n",
    "# -----------------------------\n",
    "# 5. Combine Similarities\n",
    "# -----------------------------\n",
    "df['similarity_score'] = similarity_scores_sbert * 100\n",
    "df['similarity_score_tfidf'] = similarity_scores_tfidf * 100\n",
    "df['final_similarity'] = 0.6 * df['similarity_score'] + 0.4 * df['similarity_score_tfidf']\n",
    "\n",
    "# -----------------------------\n",
    "# 6. Missing Skills\n",
    "# -----------------------------\n",
    "def get_missing_skills(user_skills, job_skills):\n",
    "    user_set = set(user_skills.lower().replace(\",\", \" \").split())\n",
    "    job_set = set(job_skills.lower().replace(\",\", \" \").split())\n",
    "    missing = job_set - user_set\n",
    "    return \", \".join(missing)\n",
    "def get_matched_skills(user_skills, job_skills):\n",
    "    user_set = set(user_skills.lower().replace(\",\", \" \").split())\n",
    "    job_set = set(job_skills.lower().replace(\",\", \" \").split())\n",
    "    matched = job_set & user_set\n",
    "    return \", \".join(matched)\n",
    "\n",
    "\n",
    "top_jobs = df.sort_values(by='final_similarity', ascending=False).head(10)\n",
    "top_jobs[\"missing_skills\"] = top_jobs[\"skills\"].apply(lambda x: get_missing_skills(user_skills, x))\n",
    "top_jobs[\"matched_skills\"] = top_jobs[\"skills\"].apply(lambda x: get_matched_skills(user_skills, x))\n",
    "# -----------------------------\n",
    "# 7. Show Recommendations\n",
    "# -----------------------------\n",
    "print(top_jobs[[\"job_role\", \"final_similarity\", \"matched_skills\", \"missing_skills\"]])\n"
   ]
  },
  {
   "cell_type": "code",
   "execution_count": null,
   "metadata": {},
   "outputs": [],
   "source": []
  }
 ],
 "metadata": {
  "kernelspec": {
   "display_name": "Python 3",
   "language": "python",
   "name": "python3"
  },
  "language_info": {
   "codemirror_mode": {
    "name": "ipython",
    "version": 3
   },
   "file_extension": ".py",
   "mimetype": "text/x-python",
   "name": "python",
   "nbconvert_exporter": "python",
   "pygments_lexer": "ipython3",
   "version": "3.11.13"
  }
 },
 "nbformat": 4,
 "nbformat_minor": 2
}
